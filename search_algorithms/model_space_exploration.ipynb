{
 "cells": [
  {
   "cell_type": "markdown",
   "metadata": {},
   "source": [
    "# Model Space Exploration"
   ]
  },
  {
   "cell_type": "markdown",
   "metadata": {},
   "source": [
    "## Introduction\n",
    "- 문제상황 소개(모델 공간 탐색)\n",
    "- 효율적 모델 공간 탐색을 위한 heuristic 개발\n",
    "- Example Model Introduction : Birthday, Roach"
   ]
  },
  {
   "cell_type": "markdown",
   "metadata": {},
   "source": [
    "## Greedy\n",
    "benchmark reference, 특별한 설명 없이 단순한 설명 첨부"
   ]
  },
  {
   "cell_type": "markdown",
   "metadata": {},
   "source": [
    "## Combinatorial Structure-based search\n",
    "### **Assumption verification**\n",
    "#### Chain structure\n",
    "\n",
    "- 여러개의 Chain을 생성하여 elpd의 추세를 조사\n",
    "\n",
    "#### Dynamic Stepsize\n",
    "\n",
    "- Local neighborhood에서 linear approximation이 가능한지\n",
    "- piecewise linear approximation을 하되, interval을 2, 3, ... 으로 다양한 value를 시도함\n",
    "- approximation error를 조사하여 일관된 변화량을 가지고 있는지 확인함\n",
    "\n",
    "### Chain - Apex Predator Search - 김신영\n",
    "### Chain - search-dynamic step size - 차상윤\n",
    "- stepsize algorithm의 결과 elpd추세 조사"
   ]
  },
  {
   "cell_type": "markdown",
   "metadata": {},
   "source": [
    "## Bayesian Approach\n",
    "### Bayesian - Probabiliy based search - 김신영\n",
    "### Bayesian - Score based search - 차상윤"
   ]
  },
  {
   "cell_type": "markdown",
   "metadata": {},
   "source": [
    "## Comparing results\n",
    "- Graphical comparison: bar graph \n",
    "- Value-based comparison: ex) Objective function (ELPD value of the best model)\n",
    "- Sensitivity Analysis(tuning hyperparameter of algorithms) algorithm-wise vs value-wise\n",
    "\n",
    "각 알고리즘을 n번 시행해서 평균 또는 best out of n\n",
    "\n",
    "|algorithm | Best Model ELPD| Iteration to reach best model|\n",
    "|---|---|---|\n",
    "|Greedy          |.|.|\n",
    "|Apex            |.|.|\n",
    "|Stepsize(p=0.7) |.|.|\n",
    "|Stepsize(p=0.5) |.|.|\n",
    "|...             |.|.|\n",
    "|Probability(K=20)|.|.|\n",
    "|Probability(K=10)|.|.|\n",
    "|Score(K=20)     |.|.|\n",
    "|Score(K=10)     |.|.|\n",
    "\n",
    "- bayesian algorithms: 확률분포 비교(산포도), expectation, 추세선\n",
    "- iteration-ELPD plot, iteration-expected_ELPD plot\n"
   ]
  },
  {
   "cell_type": "markdown",
   "metadata": {},
   "source": [
    "## Limitations\n",
    "\n",
    "실험의 편의를 위해 ELPD를 한번만 계산했기에 ELPD계산 관련한 노이즈가 반영이 안되었음\n",
    "\n",
    "## Further Research Topics\n",
    "## Conclusion"
   ]
  }
 ],
 "metadata": {
  "language_info": {
   "name": "python"
  },
  "orig_nbformat": 4
 },
 "nbformat": 4,
 "nbformat_minor": 2
}
