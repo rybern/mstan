{
 "cells": [
  {
   "cell_type": "markdown",
   "metadata": {},
   "source": [
    "# Model Space Exploration"
   ]
  },
  {
   "cell_type": "markdown",
   "metadata": {},
   "source": [
    "## Introduction\n",
    "- 문제상황 소개(모델 공간 탐색)\n",
    "- 효율적 모델 공간 탐색을 위한 heuristic 개발\n",
    "- Example Model Introduction : Birthday, Roach"
   ]
  },
  {
   "cell_type": "markdown",
   "metadata": {},
   "source": [
    "## Greedy\n",
    "benchmark reference, 특별한 설명 없이 단순한 설명 첨부"
   ]
  },
  {
   "cell_type": "markdown",
   "metadata": {},
   "source": [
    "## Combinatorial Structure-based search\n",
    "### **Assumption verification**\n",
    "#### Chain structure\n",
    "\n",
    "- 여러개의 Chain을 생성하여 elpd의 추세를 조사\n",
    "\n",
    "#### Dynamic Stepsize\n",
    "\n",
    "- Local neighborhood에서 linear approximation이 가능한지\n",
    "- piecewise linear approximation을 하되, interval을 2, 3, ... 으로 다양한 value를 시도함\n",
    "- approximation error를 조사하여 일관된 변화량을 가지고 있는지 확인함\n",
    "\n",
    "### Chain - Apex Predator Search - 김신영\n",
    "### Chain - search-dynamic step size - 차상윤\n",
    "- stepsize algorithm의 결과 elpd추세 조사"
   ]
  },
  {
   "cell_type": "markdown",
   "metadata": {},
   "source": [
    "## Bayesian Approach\n",
    "### Bayesian - Probabiliy based search - 김신영\n",
    "### Bayesian - Score based search - 차상윤"
   ]
  },
  {
   "cell_type": "markdown",
   "metadata": {},
   "source": [
    "## Comparing results\n",
    "- Graphical comparison: bar graph \n",
    "- Value-based comparison: ex) Objective function (ELPD value of the best model)\n",
    "- Sensitivity Analysis(tuning hyperparameter of algorithms) algorithm-wise vs value-wise\n",
    "\n",
    "**bayesian algorithm vs chain algorithm 시행시 chain여러개를 만들어 비슷한 계산량 선상에서 비교할 것(추가: k = 5 vs k = 10 vs k = 15 vs k = 20)**\n",
    "\n",
    "\n",
    "각 알고리즘을 n번 시행해서 평균 또는 best out of n\n",
    "\n",
    "|algorithm | Best Model ELPD| Iteration to reach best model|\n",
    "|---|---|---|\n",
    "|Greedy          |.|.|\n",
    "|Apex            |.|.|\n",
    "|Stepsize(p=0.7) |.|.|\n",
    "|Stepsize(p=0.5) |.|.|\n",
    "|...             |.|.|\n",
    "|Probability(K=20)|.|.|\n",
    "|Probability(K=10)|.|.|\n",
    "|Score(K=20)     |.|.|\n",
    "|Score(K=10)     |.|.|\n",
    "\n",
    "- bayesian algorithms: 확률분포 비교(산포도), expectation, 추세선\n",
    "- iteration-ELPD plot, iteration-expected_ELPD plot\n",
    "\n",
    "chain algorithm: 제한된 계산자원 내에서 \"적당한\" 모델을 선택한는데 탁월함. 다만 정확한 계층정보를 필요로 함.\n",
    "\n",
    "bayesian algorithm: 더 여유로운 계산자원 한도 내에서 전체 모델 공간에 대해 모델별 성능을 파악할 수 있음. 계층 정보 및 모델 공간에 대한 특별한 가정을 필요로 하지 않음.\n",
    "\n",
    "- case 1: 계산자원이 제한적일 때\n",
    "    - chain 알고리즘을 사용\n",
    "- case 2: 계산자원이 여유로울 때\n",
    "    - 1: bayesian 알고리즘을 사용\n",
    "    - 2: 전체 모델 공간을 몇개의 체인으로 분해하여 각각에 대해 체인 알고리즘을 적용"
   ]
  },
  {
   "cell_type": "markdown",
   "metadata": {},
   "source": [
    "## Limitations\n",
    "\n",
    "실험의 편의를 위해 ELPD를 한번만 계산했기에 ELPD계산 관련한 노이즈가 반영이 안되었음\n",
    "\n",
    "chain 알고리즘의 경우, signature내에서의 계층정보가 필요하지만, 모든 모델에 대한 계층 정보를 파악하는건 쉽지 않음.\n",
    "\n",
    "## Further Research Topics\n",
    "## Conclusion"
   ]
  }
 ],
 "metadata": {
  "language_info": {
   "name": "python"
  },
  "orig_nbformat": 4
 },
 "nbformat": 4,
 "nbformat_minor": 2
}
